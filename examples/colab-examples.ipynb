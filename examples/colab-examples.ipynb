{
  "nbformat": 4,
  "nbformat_minor": 0,
  "metadata": {
    "colab": {
      "provenance": [],
      "authorship_tag": "ABX9TyNxB3SD5INCZOMkWuKIBjdJ",
      "include_colab_link": true
    },
    "kernelspec": {
      "name": "python3",
      "display_name": "Python 3"
    },
    "language_info": {
      "name": "python"
    }
  },
  "cells": [
    {
      "cell_type": "markdown",
      "metadata": {
        "id": "view-in-github",
        "colab_type": "text"
      },
      "source": [
        "<a href=\"https://colab.research.google.com/github/marcosalvalaggio/lana-blas/blob/main/examples/colab-examples.ipynb\" target=\"_parent\"><img src=\"https://colab.research.google.com/assets/colab-badge.svg\" alt=\"Open In Colab\"/></a>"
      ]
    },
    {
      "cell_type": "code",
      "source": [
        "!pip install lanablas==0.1.2"
      ],
      "metadata": {
        "colab": {
          "base_uri": "https://localhost:8080/"
        },
        "id": "zr14IkFseiUt",
        "outputId": "70dc0d65-6747-437c-b4ef-c280cbbde802"
      },
      "execution_count": 1,
      "outputs": [
        {
          "output_type": "stream",
          "name": "stdout",
          "text": [
            "Looking in indexes: https://pypi.org/simple, https://us-python.pkg.dev/colab-wheels/public/simple/\n",
            "Requirement already satisfied: lanablas==0.1.2 in /usr/local/lib/python3.10/dist-packages (0.1.2)\n"
          ]
        }
      ]
    },
    {
      "cell_type": "code",
      "source": [
        "from lanablas import Matrix, inject"
      ],
      "metadata": {
        "id": "x0-Lh8m4evz4"
      },
      "execution_count": 2,
      "outputs": []
    },
    {
      "cell_type": "markdown",
      "source": [
        "### Zeros"
      ],
      "metadata": {
        "id": "pPHHUw6VjK46"
      }
    },
    {
      "cell_type": "code",
      "source": [
        "zeros = Matrix.zeros(3,3)\n",
        "print(zeros)\n",
        "print(f\"type: {type(zeros)}, shape: {zeros.shape}\")"
      ],
      "metadata": {
        "colab": {
          "base_uri": "https://localhost:8080/"
        },
        "id": "czPzykWxeyGL",
        "outputId": "bd0ba31b-7d22-45e1-9100-8c59338fca3e"
      },
      "execution_count": 3,
      "outputs": [
        {
          "output_type": "stream",
          "name": "stdout",
          "text": [
            "Matrix([[0.0, 0.0, 0.0],\n",
            "       [0.0, 0.0, 0.0],\n",
            "       [0.0, 0.0, 0.0]])\n",
            "type: <class 'Matrix'>, shape: (3, 3)\n"
          ]
        }
      ]
    },
    {
      "cell_type": "markdown",
      "source": [
        "### Ones"
      ],
      "metadata": {
        "id": "3CiFL1GGjPjI"
      }
    },
    {
      "cell_type": "code",
      "source": [
        "ones = Matrix.ones(3,3)\n",
        "print(ones)\n",
        "print(f\"type: {type(ones)}, shape: {ones.shape}\")"
      ],
      "metadata": {
        "colab": {
          "base_uri": "https://localhost:8080/"
        },
        "id": "spSwgQo0e06m",
        "outputId": "464fc1ec-e5ee-4f7d-f8b7-787388335d83"
      },
      "execution_count": 4,
      "outputs": [
        {
          "output_type": "stream",
          "name": "stdout",
          "text": [
            "Matrix([[1.0, 1.0, 1.0],\n",
            "       [1.0, 1.0, 1.0],\n",
            "       [1.0, 1.0, 1.0]])\n",
            "type: <class 'Matrix'>, shape: (3, 3)\n"
          ]
        }
      ]
    },
    {
      "cell_type": "markdown",
      "source": [
        "### Eye"
      ],
      "metadata": {
        "id": "wfhJEM72jUps"
      }
    },
    {
      "cell_type": "code",
      "source": [
        "eye = Matrix.eye(3)\n",
        "print(eye)\n",
        "print(f\"type: {type(eye)}, shape: {eye.shape}\")"
      ],
      "metadata": {
        "colab": {
          "base_uri": "https://localhost:8080/"
        },
        "id": "Y7GoUDW8jTkC",
        "outputId": "2e928993-9d97-4d74-c793-af28adf5fac0"
      },
      "execution_count": 5,
      "outputs": [
        {
          "output_type": "stream",
          "name": "stdout",
          "text": [
            "Matrix([[1.0, 0.0, 0.0],\n",
            "       [0.0, 1.0, 0.0],\n",
            "       [0.0, 0.0, 1.0]])\n",
            "type: <class 'Matrix'>, shape: (3, 3)\n"
          ]
        }
      ]
    },
    {
      "cell_type": "markdown",
      "source": [
        "### Fill"
      ],
      "metadata": {
        "id": "-cRMEVQ-jYjd"
      }
    },
    {
      "cell_type": "code",
      "source": [
        "fill = Matrix.fill((3,3),3)\n",
        "print(fill)\n",
        "print(f\"type: {type(fill)}, shape: {fill.shape}\")"
      ],
      "metadata": {
        "colab": {
          "base_uri": "https://localhost:8080/"
        },
        "id": "oc2A2Vo8jZSp",
        "outputId": "6b3733d7-9de8-4afa-a9de-f034fa657dbe"
      },
      "execution_count": 6,
      "outputs": [
        {
          "output_type": "stream",
          "name": "stdout",
          "text": [
            "Matrix([[3.0, 3.0, 3.0],\n",
            "       [3.0, 3.0, 3.0],\n",
            "       [3.0, 3.0, 3.0]])\n",
            "type: <class 'Matrix'>, shape: (3, 3)\n"
          ]
        }
      ]
    },
    {
      "cell_type": "markdown",
      "source": [
        "### New"
      ],
      "metadata": {
        "id": "vRw9-sGwjcUM"
      }
    },
    {
      "cell_type": "code",
      "source": [
        "new = Matrix.new([[1,2,3],[4,5,6],[7,8,9]])\n",
        "print(new)\n",
        "print(f\"type: {type(new)}, shape: {new.shape}\")"
      ],
      "metadata": {
        "colab": {
          "base_uri": "https://localhost:8080/"
        },
        "id": "jf36AouSjbfh",
        "outputId": "2ed4adc5-1bab-4666-f4a0-da50749e51ff"
      },
      "execution_count": 7,
      "outputs": [
        {
          "output_type": "stream",
          "name": "stdout",
          "text": [
            "Matrix([[1.0, 2.0, 3.0],\n",
            "       [4.0, 5.0, 6.0],\n",
            "       [7.0, 8.0, 9.0]])\n",
            "type: <class 'Matrix'>, shape: (3, 3)\n"
          ]
        }
      ]
    },
    {
      "cell_type": "markdown",
      "source": [
        "### Manipulate a Matrix"
      ],
      "metadata": {
        "id": "9OX3HiUojf-n"
      }
    },
    {
      "cell_type": "code",
      "source": [
        "a = new.to_list()\n",
        "print(a)\n",
        "print(f\"type: {type(a)}\")"
      ],
      "metadata": {
        "colab": {
          "base_uri": "https://localhost:8080/"
        },
        "id": "Tiv9iCLEjh3l",
        "outputId": "eaa518c2-7e5e-4190-c021-44f8e8514833"
      },
      "execution_count": 8,
      "outputs": [
        {
          "output_type": "stream",
          "name": "stdout",
          "text": [
            "[[1.0, 2.0, 3.0], [4.0, 5.0, 6.0], [7.0, 8.0, 9.0]]\n",
            "type: <class 'list'>\n"
          ]
        }
      ]
    },
    {
      "cell_type": "code",
      "source": [
        "b = Matrix.new(inject(a[0]))\n",
        "print(b)\n",
        "print(f\"type: {type(b)}, shape: {b.shape}\")"
      ],
      "metadata": {
        "colab": {
          "base_uri": "https://localhost:8080/"
        },
        "id": "VbBg4FB7jjf1",
        "outputId": "9619d1f8-9921-4c56-8b94-0bd194e8faa7"
      },
      "execution_count": 9,
      "outputs": [
        {
          "output_type": "stream",
          "name": "stdout",
          "text": [
            "Matrix([[1.0, 2.0, 3.0]])\n",
            "type: <class 'Matrix'>, shape: (1, 3)\n"
          ]
        }
      ]
    },
    {
      "cell_type": "code",
      "source": [
        "for row in new.to_list():\n",
        "    print(row, type(row))"
      ],
      "metadata": {
        "colab": {
          "base_uri": "https://localhost:8080/"
        },
        "id": "Z30XzGLyjk7C",
        "outputId": "04ba8a31-0dc5-4c8a-acab-cae56d554c73"
      },
      "execution_count": 10,
      "outputs": [
        {
          "output_type": "stream",
          "name": "stdout",
          "text": [
            "[1.0, 2.0, 3.0] <class 'list'>\n",
            "[4.0, 5.0, 6.0] <class 'list'>\n",
            "[7.0, 8.0, 9.0] <class 'list'>\n"
          ]
        }
      ]
    }
  ]
}
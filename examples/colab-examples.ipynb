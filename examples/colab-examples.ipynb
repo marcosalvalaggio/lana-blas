{
  "nbformat": 4,
  "nbformat_minor": 0,
  "metadata": {
    "colab": {
      "provenance": [],
      "authorship_tag": "ABX9TyOZLENkc5PDuzzB/WFFk17z",
      "include_colab_link": true
    },
    "kernelspec": {
      "name": "python3",
      "display_name": "Python 3"
    },
    "language_info": {
      "name": "python"
    }
  },
  "cells": [
    {
      "cell_type": "markdown",
      "metadata": {
        "id": "view-in-github",
        "colab_type": "text"
      },
      "source": [
        "<a href=\"https://colab.research.google.com/github/marcosalvalaggio/lana-blas/blob/main/colab-examples.ipynb\" target=\"_parent\"><img src=\"https://colab.research.google.com/assets/colab-badge.svg\" alt=\"Open In Colab\"/></a>"
      ]
    },
    {
      "cell_type": "code",
      "source": [
        "!pip install lanablas==0.1.5"
      ],
      "metadata": {
        "colab": {
          "base_uri": "https://localhost:8080/"
        },
        "id": "zr14IkFseiUt",
        "outputId": "c1418ec4-6f73-497b-bba7-e0ce85fc75eb"
      },
      "execution_count": 1,
      "outputs": [
        {
          "output_type": "stream",
          "name": "stdout",
          "text": [
            "Collecting lanablas==0.1.5\n",
            "  Downloading lanablas-0.1.5.tar.gz (71.4 MB)\n",
            "\u001b[2K     \u001b[90m━━━━━━━━━━━━━━━━━━━━━━━━━━━━━━━━━━━━━━━━\u001b[0m \u001b[32m71.4/71.4 MB\u001b[0m \u001b[31m10.3 MB/s\u001b[0m eta \u001b[36m0:00:00\u001b[0m\n",
            "\u001b[?25h  Preparing metadata (setup.py) ... \u001b[?25l\u001b[?25hdone\n",
            "Building wheels for collected packages: lanablas\n",
            "  Building wheel for lanablas (setup.py) ... \u001b[?25l\u001b[?25hdone\n",
            "  Created wheel for lanablas: filename=lanablas-0.1.5-cp310-cp310-linux_x86_64.whl size=72556453 sha256=2fa8bd0a9722c23db64fe1e3eb0ace875f1492de5ef9d01a5873199cd5686d23\n",
            "  Stored in directory: /root/.cache/pip/wheels/aa/20/09/8bb0ba8e852d73237eaad8afa537a69820c7900ba292ca6884\n",
            "Successfully built lanablas\n",
            "Installing collected packages: lanablas\n",
            "Successfully installed lanablas-0.1.5\n"
          ]
        }
      ]
    },
    {
      "cell_type": "code",
      "source": [
        "from lanablas import Matrix, inject"
      ],
      "metadata": {
        "id": "x0-Lh8m4evz4"
      },
      "execution_count": 2,
      "outputs": []
    },
    {
      "cell_type": "markdown",
      "source": [
        "### Zeros"
      ],
      "metadata": {
        "id": "pPHHUw6VjK46"
      }
    },
    {
      "cell_type": "code",
      "source": [
        "zeros = Matrix.zeros(3,3)\n",
        "print(zeros)\n",
        "print(f\"type: {type(zeros)}, shape: {zeros.shape}\")"
      ],
      "metadata": {
        "colab": {
          "base_uri": "https://localhost:8080/"
        },
        "id": "czPzykWxeyGL",
        "outputId": "66da43f9-1df4-41a8-c470-ad69738732cc"
      },
      "execution_count": 3,
      "outputs": [
        {
          "output_type": "stream",
          "name": "stdout",
          "text": [
            "Matrix([[0.0, 0.0, 0.0],\n",
            "       [0.0, 0.0, 0.0],\n",
            "       [0.0, 0.0, 0.0]])\n",
            "type: <class 'Matrix'>, shape: (3, 3)\n"
          ]
        }
      ]
    },
    {
      "cell_type": "markdown",
      "source": [
        "### Ones"
      ],
      "metadata": {
        "id": "3CiFL1GGjPjI"
      }
    },
    {
      "cell_type": "code",
      "source": [
        "ones = Matrix.ones(3,3)\n",
        "print(ones)\n",
        "print(f\"type: {type(ones)}, shape: {ones.shape}\")"
      ],
      "metadata": {
        "colab": {
          "base_uri": "https://localhost:8080/"
        },
        "id": "spSwgQo0e06m",
        "outputId": "ea99b206-7c5e-42bb-d357-8f4cbfd517ce"
      },
      "execution_count": 4,
      "outputs": [
        {
          "output_type": "stream",
          "name": "stdout",
          "text": [
            "Matrix([[1.0, 1.0, 1.0],\n",
            "       [1.0, 1.0, 1.0],\n",
            "       [1.0, 1.0, 1.0]])\n",
            "type: <class 'Matrix'>, shape: (3, 3)\n"
          ]
        }
      ]
    },
    {
      "cell_type": "markdown",
      "source": [
        "### Eye"
      ],
      "metadata": {
        "id": "wfhJEM72jUps"
      }
    },
    {
      "cell_type": "code",
      "source": [
        "eye = Matrix.eye(3)\n",
        "print(eye)\n",
        "print(f\"type: {type(eye)}, shape: {eye.shape}\")"
      ],
      "metadata": {
        "colab": {
          "base_uri": "https://localhost:8080/"
        },
        "id": "Y7GoUDW8jTkC",
        "outputId": "89c53173-616c-4ee8-d767-4fec31582ea0"
      },
      "execution_count": 5,
      "outputs": [
        {
          "output_type": "stream",
          "name": "stdout",
          "text": [
            "Matrix([[1.0, 0.0, 0.0],\n",
            "       [0.0, 1.0, 0.0],\n",
            "       [0.0, 0.0, 1.0]])\n",
            "type: <class 'Matrix'>, shape: (3, 3)\n"
          ]
        }
      ]
    },
    {
      "cell_type": "markdown",
      "source": [
        "### Full"
      ],
      "metadata": {
        "id": "-cRMEVQ-jYjd"
      }
    },
    {
      "cell_type": "code",
      "source": [
        "full = Matrix.full((3,3),3)\n",
        "print(full)\n",
        "print(f\"type: {type(full)}, shape: {full.shape}\")"
      ],
      "metadata": {
        "colab": {
          "base_uri": "https://localhost:8080/"
        },
        "id": "oc2A2Vo8jZSp",
        "outputId": "403f5613-c907-4047-859b-dca23d92eda4"
      },
      "execution_count": 6,
      "outputs": [
        {
          "output_type": "stream",
          "name": "stdout",
          "text": [
            "Matrix([[3.0, 3.0, 3.0],\n",
            "       [3.0, 3.0, 3.0],\n",
            "       [3.0, 3.0, 3.0]])\n",
            "type: <class 'Matrix'>, shape: (3, 3)\n"
          ]
        }
      ]
    },
    {
      "cell_type": "markdown",
      "source": [
        "### New"
      ],
      "metadata": {
        "id": "vRw9-sGwjcUM"
      }
    },
    {
      "cell_type": "code",
      "source": [
        "new = Matrix.new([[1,2,3],[4,5,6],[7,8,9]])\n",
        "print(new)\n",
        "print(f\"type: {type(new)}, shape: {new.shape}\")"
      ],
      "metadata": {
        "colab": {
          "base_uri": "https://localhost:8080/"
        },
        "id": "jf36AouSjbfh",
        "outputId": "71f844e4-7d18-456c-ab7c-daa97c2c491f"
      },
      "execution_count": 7,
      "outputs": [
        {
          "output_type": "stream",
          "name": "stdout",
          "text": [
            "Matrix([[1.0, 2.0, 3.0],\n",
            "       [4.0, 5.0, 6.0],\n",
            "       [7.0, 8.0, 9.0]])\n",
            "type: <class 'Matrix'>, shape: (3, 3)\n"
          ]
        }
      ]
    },
    {
      "cell_type": "markdown",
      "source": [
        "### Manipulate a Matrix"
      ],
      "metadata": {
        "id": "9OX3HiUojf-n"
      }
    },
    {
      "cell_type": "code",
      "source": [
        "a = new.tolist()\n",
        "print(a)\n",
        "print(f\"type: {type(a)}\")"
      ],
      "metadata": {
        "colab": {
          "base_uri": "https://localhost:8080/"
        },
        "id": "Tiv9iCLEjh3l",
        "outputId": "f4258724-ed47-41b1-fb3c-3e2de01e7052"
      },
      "execution_count": 8,
      "outputs": [
        {
          "output_type": "stream",
          "name": "stdout",
          "text": [
            "[[1.0, 2.0, 3.0], [4.0, 5.0, 6.0], [7.0, 8.0, 9.0]]\n",
            "type: <class 'list'>\n"
          ]
        }
      ]
    },
    {
      "cell_type": "code",
      "source": [
        "b = Matrix.new(inject(a[0]))\n",
        "print(b)\n",
        "print(f\"type: {type(b)}, shape: {b.shape}\")"
      ],
      "metadata": {
        "colab": {
          "base_uri": "https://localhost:8080/"
        },
        "id": "VbBg4FB7jjf1",
        "outputId": "e104e9b4-7fc2-4689-fbd1-462d70edbe7f"
      },
      "execution_count": 9,
      "outputs": [
        {
          "output_type": "stream",
          "name": "stdout",
          "text": [
            "Matrix([[1.0, 2.0, 3.0]])\n",
            "type: <class 'Matrix'>, shape: (1, 3)\n"
          ]
        }
      ]
    },
    {
      "cell_type": "code",
      "source": [
        "for row in new.tolist():\n",
        "    print(row, type(row))"
      ],
      "metadata": {
        "colab": {
          "base_uri": "https://localhost:8080/"
        },
        "id": "Z30XzGLyjk7C",
        "outputId": "cb28b1f6-ea3b-479b-c270-8cdcbf3e6956"
      },
      "execution_count": 10,
      "outputs": [
        {
          "output_type": "stream",
          "name": "stdout",
          "text": [
            "[1.0, 2.0, 3.0] <class 'list'>\n",
            "[4.0, 5.0, 6.0] <class 'list'>\n",
            "[7.0, 8.0, 9.0] <class 'list'>\n"
          ]
        }
      ]
    }
  ]
}
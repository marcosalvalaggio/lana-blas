{
 "cells": [
  {
   "attachments": {},
   "cell_type": "markdown",
   "metadata": {},
   "source": [
    "## LanaBLAS"
   ]
  },
  {
   "cell_type": "code",
   "execution_count": 1,
   "metadata": {},
   "outputs": [],
   "source": [
    "from lanablas import Matrix, inject"
   ]
  },
  {
   "attachments": {},
   "cell_type": "markdown",
   "metadata": {},
   "source": [
    "### Zeros"
   ]
  },
  {
   "cell_type": "code",
   "execution_count": 2,
   "metadata": {},
   "outputs": [
    {
     "name": "stdout",
     "output_type": "stream",
     "text": [
      "Matrix([[0.0, 0.0, 0.0],\n",
      "       [0.0, 0.0, 0.0],\n",
      "       [0.0, 0.0, 0.0]])\n",
      "type: <class 'Matrix'>, shape: (3, 3)\n"
     ]
    }
   ],
   "source": [
    "zeros = Matrix.zeros(3,3)\n",
    "print(zeros)\n",
    "print(f\"type: {type(zeros)}, shape: {zeros.shape}\")"
   ]
  },
  {
   "attachments": {},
   "cell_type": "markdown",
   "metadata": {},
   "source": [
    "### Ones"
   ]
  },
  {
   "cell_type": "code",
   "execution_count": 3,
   "metadata": {},
   "outputs": [
    {
     "name": "stdout",
     "output_type": "stream",
     "text": [
      "Matrix([[1.0, 1.0, 1.0],\n",
      "       [1.0, 1.0, 1.0],\n",
      "       [1.0, 1.0, 1.0]])\n",
      "type: <class 'Matrix'>, shape: (3, 3)\n"
     ]
    }
   ],
   "source": [
    "ones = Matrix.ones(3,3)\n",
    "print(ones)\n",
    "print(f\"type: {type(ones)}, shape: {ones.shape}\")"
   ]
  },
  {
   "attachments": {},
   "cell_type": "markdown",
   "metadata": {},
   "source": [
    "### Eye"
   ]
  },
  {
   "cell_type": "code",
   "execution_count": 4,
   "metadata": {},
   "outputs": [
    {
     "name": "stdout",
     "output_type": "stream",
     "text": [
      "Matrix([[1.0, 0.0, 0.0],\n",
      "       [0.0, 1.0, 0.0],\n",
      "       [0.0, 0.0, 1.0]])\n",
      "type: <class 'Matrix'>, shape: (3, 3)\n"
     ]
    }
   ],
   "source": [
    "eye = Matrix.eye(3)\n",
    "print(eye)\n",
    "print(f\"type: {type(eye)}, shape: {eye.shape}\")"
   ]
  },
  {
   "attachments": {},
   "cell_type": "markdown",
   "metadata": {},
   "source": [
    "### New "
   ]
  },
  {
   "cell_type": "code",
   "execution_count": 6,
   "metadata": {},
   "outputs": [
    {
     "name": "stdout",
     "output_type": "stream",
     "text": [
      "Matrix([[1.0, 2.0, 3.0],\n",
      "       [4.0, 5.0, 6.0],\n",
      "       [7.0, 8.0, 9.0]])\n",
      "type: <class 'Matrix'>, shape: (3, 3)\n"
     ]
    }
   ],
   "source": [
    "new = Matrix.new([[1,2,3],[4,5,6],[7,8,9]])\n",
    "print(new)\n",
    "print(f\"type: {type(new)}, shape: {new.shape}\")"
   ]
  },
  {
   "attachments": {},
   "cell_type": "markdown",
   "metadata": {},
   "source": [
    "### Manipulate a matrix"
   ]
  },
  {
   "cell_type": "code",
   "execution_count": 9,
   "metadata": {},
   "outputs": [
    {
     "name": "stdout",
     "output_type": "stream",
     "text": [
      "[[1.0, 2.0, 3.0], [4.0, 5.0, 6.0], [7.0, 8.0, 9.0]]\n",
      "type: <class 'list'>\n"
     ]
    }
   ],
   "source": [
    "a = new.to_list()\n",
    "print(a)\n",
    "print(f\"type: {type(a)}\")"
   ]
  },
  {
   "cell_type": "code",
   "execution_count": 10,
   "metadata": {},
   "outputs": [
    {
     "name": "stdout",
     "output_type": "stream",
     "text": [
      "Matrix([[1.0, 2.0, 3.0]])\n",
      "type: <class 'Matrix'>, shape: (1, 3)\n"
     ]
    }
   ],
   "source": [
    "b = Matrix.new(inject(a[0]))\n",
    "print(b)\n",
    "print(f\"type: {type(b)}, shape: {b.shape}\")"
   ]
  }
 ],
 "metadata": {
  "kernelspec": {
   "display_name": "base",
   "language": "python",
   "name": "python3"
  },
  "language_info": {
   "codemirror_mode": {
    "name": "ipython",
    "version": 3
   },
   "file_extension": ".py",
   "mimetype": "text/x-python",
   "name": "python",
   "nbconvert_exporter": "python",
   "pygments_lexer": "ipython3",
   "version": "3.9.12"
  },
  "orig_nbformat": 4
 },
 "nbformat": 4,
 "nbformat_minor": 2
}

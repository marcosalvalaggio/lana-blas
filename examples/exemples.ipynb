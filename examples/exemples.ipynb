{
 "cells": [
  {
   "attachments": {},
   "cell_type": "markdown",
   "metadata": {},
   "source": [
    "## LanaBLAS"
   ]
  },
  {
   "cell_type": "code",
   "execution_count": 9,
   "metadata": {},
   "outputs": [],
   "source": [
    "from lanablas import Matrix"
   ]
  },
  {
   "attachments": {},
   "cell_type": "markdown",
   "metadata": {},
   "source": [
    "### Zeros"
   ]
  },
  {
   "cell_type": "code",
   "execution_count": 10,
   "metadata": {},
   "outputs": [
    {
     "name": "stdout",
     "output_type": "stream",
     "text": [
      "Matrix([[0.0, 0.0, 0.0],\n",
      "       [0.0, 0.0, 0.0],\n",
      "       [0.0, 0.0, 0.0]])\n",
      "type: <class 'Matrix'>, shape: (3, 3)\n"
     ]
    }
   ],
   "source": [
    "zeros = Matrix.zeros(3,3)\n",
    "print(zeros)\n",
    "print(f\"type: {type(zeros)}, shape: {zeros.shape}\")"
   ]
  },
  {
   "attachments": {},
   "cell_type": "markdown",
   "metadata": {},
   "source": [
    "### Ones"
   ]
  },
  {
   "cell_type": "code",
   "execution_count": 11,
   "metadata": {},
   "outputs": [
    {
     "name": "stdout",
     "output_type": "stream",
     "text": [
      "Matrix([[1.0, 1.0, 1.0],\n",
      "       [1.0, 1.0, 1.0],\n",
      "       [1.0, 1.0, 1.0]])\n",
      "type: <class 'Matrix'>, shape: (3, 3)\n"
     ]
    }
   ],
   "source": [
    "ones = Matrix.ones(3,3)\n",
    "print(ones)\n",
    "print(f\"type: {type(ones)}, shape: {ones.shape}\")"
   ]
  },
  {
   "attachments": {},
   "cell_type": "markdown",
   "metadata": {},
   "source": [
    "### Eye"
   ]
  },
  {
   "cell_type": "code",
   "execution_count": 12,
   "metadata": {},
   "outputs": [
    {
     "name": "stdout",
     "output_type": "stream",
     "text": [
      "Matrix([[1.0, 0.0, 0.0],\n",
      "       [0.0, 1.0, 0.0],\n",
      "       [0.0, 0.0, 1.0]])\n",
      "type: <class 'Matrix'>, shape: (3, 3)\n"
     ]
    }
   ],
   "source": [
    "eye = Matrix.eye(3)\n",
    "print(eye)\n",
    "print(f\"type: {type(eye)}, shape: {eye.shape}\")"
   ]
  }
 ],
 "metadata": {
  "kernelspec": {
   "display_name": "base",
   "language": "python",
   "name": "python3"
  },
  "language_info": {
   "codemirror_mode": {
    "name": "ipython",
    "version": 3
   },
   "file_extension": ".py",
   "mimetype": "text/x-python",
   "name": "python",
   "nbconvert_exporter": "python",
   "pygments_lexer": "ipython3",
   "version": "3.9.12"
  },
  "orig_nbformat": 4
 },
 "nbformat": 4,
 "nbformat_minor": 2
}

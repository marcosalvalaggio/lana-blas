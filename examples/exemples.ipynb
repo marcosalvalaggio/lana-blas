{
 "cells": [
  {
   "attachments": {},
   "cell_type": "markdown",
   "metadata": {},
   "source": [
    "## LanaBLAS"
   ]
  },
  {
   "cell_type": "code",
   "execution_count": 1,
   "metadata": {},
   "outputs": [],
   "source": [
    "from lanablas import Matrix"
   ]
  },
  {
   "attachments": {},
   "cell_type": "markdown",
   "metadata": {},
   "source": [
    "### Zeros"
   ]
  },
  {
   "cell_type": "code",
   "execution_count": 2,
   "metadata": {},
   "outputs": [
    {
     "name": "stdout",
     "output_type": "stream",
     "text": [
      "Matrix([[0.0, 0.0, 0.0],\n",
      "       [0.0, 0.0, 0.0],\n",
      "       [0.0, 0.0, 0.0]])\n",
      "<class 'Matrix'> (3, 3)\n"
     ]
    }
   ],
   "source": [
    "zeros = Matrix.zeros(3,3)\n",
    "print(zeros)\n",
    "print(type(zeros), zeros.shape)"
   ]
  },
  {
   "attachments": {},
   "cell_type": "markdown",
   "metadata": {},
   "source": [
    "### Ones"
   ]
  },
  {
   "cell_type": "code",
   "execution_count": 3,
   "metadata": {},
   "outputs": [
    {
     "name": "stdout",
     "output_type": "stream",
     "text": [
      "Matrix([[1.0, 1.0, 1.0],\n",
      "       [1.0, 1.0, 1.0],\n",
      "       [1.0, 1.0, 1.0]])\n",
      "<class 'Matrix'> (3, 3)\n"
     ]
    }
   ],
   "source": [
    "ones = Matrix.ones(3,3)\n",
    "print(ones)\n",
    "print(type(ones), ones.shape)"
   ]
  },
  {
   "attachments": {},
   "cell_type": "markdown",
   "metadata": {},
   "source": [
    "### Eye"
   ]
  },
  {
   "cell_type": "code",
   "execution_count": 5,
   "metadata": {},
   "outputs": [
    {
     "name": "stdout",
     "output_type": "stream",
     "text": [
      "Matrix([[1.0, 0.0, 0.0],\n",
      "       [0.0, 1.0, 0.0],\n",
      "       [0.0, 0.0, 1.0]])\n",
      "<class 'Matrix'> (3, 3)\n"
     ]
    }
   ],
   "source": [
    "eye = Matrix.eye(3)\n",
    "print(eye)\n",
    "print(type(eye), eye.shape)"
   ]
  }
 ],
 "metadata": {
  "kernelspec": {
   "display_name": "base",
   "language": "python",
   "name": "python3"
  },
  "language_info": {
   "codemirror_mode": {
    "name": "ipython",
    "version": 3
   },
   "file_extension": ".py",
   "mimetype": "text/x-python",
   "name": "python",
   "nbconvert_exporter": "python",
   "pygments_lexer": "ipython3",
   "version": "3.9.12"
  },
  "orig_nbformat": 4
 },
 "nbformat": 4,
 "nbformat_minor": 2
}
